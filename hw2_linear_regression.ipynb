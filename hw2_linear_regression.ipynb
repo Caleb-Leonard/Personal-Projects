{
 "cells": [
  {
   "cell_type": "markdown",
   "metadata": {},
   "source": [
    "### Problem 1\n",
    "In the example below, we use scikit-learn package to compute the solution for the linear regression with multiple explanatory variables.\n",
    "\n",
    "Please use the math formulas in the lecture notes to compute the solution for the linear regression:\n",
    "$$\n",
    "\\hat{\\mathbf{w}} = (\\mathbf{X}^T \\mathbf{X})^{-1} \\mathbf{X}^T \\mathbf{y}\n",
    "$$\n",
    "You can use Numpy package, but cannot use scikit-learn package."
   ]
  },
  {
   "cell_type": "code",
   "execution_count": 16,
   "metadata": {},
   "outputs": [
    {
     "name": "stdout",
     "output_type": "stream",
     "text": [
      "Original X Matrix:\n",
      " [[1 1]\n",
      " [1 2]\n",
      " [2 2]\n",
      " [2 3]] \n",
      "\n",
      "Original X Matrix Transpose:\n",
      " [[1 1 2 2]\n",
      " [1 2 2 3]] \n",
      "\n",
      "Original y Matrix:\n",
      " [ 6  8  9 11] \n",
      "\n",
      "Original y Matrix Transpose:\n",
      " [[ 6]\n",
      " [ 8]\n",
      " [ 9]\n",
      " [11]] \n",
      "\n",
      "Modified X Matrix:\n",
      " [[1 1 1]\n",
      " [1 2 1]\n",
      " [2 2 1]\n",
      " [2 3 1]] \n",
      "\n",
      "Modified X Matrix Transpose:\n",
      " [[1 1 2 2]\n",
      " [1 2 2 3]\n",
      " [1 1 1 1]] \n",
      "\n",
      "W\n",
      " [[1.]\n",
      " [2.]\n",
      " [3.]]\n"
     ]
    }
   ],
   "source": [
    "### use scikit-learn package\n",
    "\n",
    "import numpy as np\n",
    "from sklearn.linear_model import LinearRegression\n",
    "\n",
    "X = np.array([[1, 1], [1, 2], [2, 2], [2, 3]])\n",
    "print(\"Original X Matrix:\\n\", X, \"\\n\")\n",
    "XM = np.asmatrix(X)\n",
    "\n",
    "XMT = np.transpose(XM)\n",
    "print(\"Original X Matrix Transpose:\\n\", XMT, \"\\n\")\n",
    "\n",
    "# y = 1 * x_0 + 2 * x_1 + 3\n",
    "y = np.dot(X, np.array([1, 2])) + 3\n",
    "print(\"Original y Matrix:\\n\", y, \"\\n\")\n",
    "\n",
    "\n",
    "reg = LinearRegression().fit(X, y)\n",
    "\n",
    "yM = np.asmatrix(y)\n",
    "\n",
    "yMT = np.transpose(yM)\n",
    "print(\"Original y Matrix Transpose:\\n\", yMT, \"\\n\")\n",
    "\n",
    "X = np.array([[1, 1, 1], [1, 2, 1], [2, 2, 1], [2, 3, 1]])\n",
    "print(\"Modified X Matrix:\\n\", X, \"\\n\")\n",
    "\n",
    "XM = np.asmatrix(X)\n",
    "\n",
    "XMT = np.transpose(XM)\n",
    "print(\"Modified X Matrix Transpose:\\n\", XMT, \"\\n\")\n",
    "\n",
    "w = (((XMT * XM) ** -1) * XMT * yMT)\n",
    "\n",
    "##X^T = 3 x 4\n",
    "##X = 4 x 3\n",
    "##y = 4 x 1\n",
    "\n",
    "##X^T x X\n",
    "##(3 x 4) x (4 x 3) = (3 x 3)\n",
    "\n",
    "##resultant x X^T\n",
    "##(3 x 3) x (3 x 4) = (3 x 4)\n",
    "\n",
    "##resultant x y\n",
    "##(3 x 4) x (4 x 1) = (3 x 1)\n",
    "\n",
    "\n",
    "print(\"W\\n\", w)"
   ]
  },
  {
   "cell_type": "markdown",
   "metadata": {},
   "source": [
    "### Problem 2\n",
    "In the section for linear regression with multiple explanatory variables, prove that $\\textbf{X}^T\\textbf{X}$ is positive definite if and only if $\\textbf{X}$ has full column rank.\n",
    "\n",
    "You can use LaTeX to write the math formulas in the proof. The Overleaf website is easy for beginners to prepare LaTeX document and the tutorial can be found here: https://www.overleaf.com/learn/latex/Learn_LaTeX_in_30_minutes\n",
    "\n",
    "You can submit the solution to this problem in the format of PDF file or the Jupyter notebook file."
   ]
  },
  {
   "cell_type": "code",
   "execution_count": 1,
   "metadata": {
    "scrolled": true
   },
   "outputs": [
    {
     "ename": "SyntaxError",
     "evalue": "unexpected character after line continuation character (<ipython-input-1-b7ce98215602>, line 1)",
     "output_type": "error",
     "traceback": [
      "\u001b[1;36m  File \u001b[1;32m\"<ipython-input-1-b7ce98215602>\"\u001b[1;36m, line \u001b[1;32m1\u001b[0m\n\u001b[1;33m    \\[ \\sum_{n=1}^{\\infty} 2^{-n} = 1 \\]\u001b[0m\n\u001b[1;37m                                        ^\u001b[0m\n\u001b[1;31mSyntaxError\u001b[0m\u001b[1;31m:\u001b[0m unexpected character after line continuation character\n"
     ]
    }
   ],
   "source": []
  }
 ],
 "metadata": {
  "kernelspec": {
   "display_name": "Python 3 (ipykernel)",
   "language": "python",
   "name": "python3"
  },
  "language_info": {
   "codemirror_mode": {
    "name": "ipython",
    "version": 3
   },
   "file_extension": ".py",
   "mimetype": "text/x-python",
   "name": "python",
   "nbconvert_exporter": "python",
   "pygments_lexer": "ipython3",
   "version": "3.11.4"
  }
 },
 "nbformat": 4,
 "nbformat_minor": 2
}
