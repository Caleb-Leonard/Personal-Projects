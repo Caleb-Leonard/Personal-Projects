{
 "cells": [
  {
   "cell_type": "markdown",
   "id": "4fc19c9c",
   "metadata": {},
   "source": [
    "### Before you work on this homework, please self-study the following list:\n",
    "1. Anaconda: a platform of Python packages for scientific computing (data science, machine learning applications, large-scale data processing, predictive analytics, etc.)\n",
    "    - download and install Anaconda from https://www.anaconda.com/\n",
    "    - install Python and Jupyter notebook in Anaconda\n",
    "2. Python:\n",
    "    - read and go through all the examples in this website: https://learnxinyminutes.com/docs/python/\n",
    "    - learn how to run Python code in your computer\n",
    "2. Jupyter:\n",
    "    - learn how to run Jupyter Notebook\n",
    "3. Markdown: a plain text markup language\n",
    "    - read and go through all the examples in this website: https://learnxinyminutes.com/docs/markdown/"
   ]
  },
  {
   "cell_type": "markdown",
   "id": "2f18667d",
   "metadata": {},
   "source": [
    "### Please first read the examples and then work on the following homework (Problem 1-5). Submit your solution code in the format of Jupyter Notebook as in the examples."
   ]
  },
  {
   "cell_type": "markdown",
   "id": "6f328196",
   "metadata": {},
   "source": [
    "### Example 1:\n",
    "Compute and print the summation of all the integers from 1 to 100:\n",
    "$$\\sum_{k=1}^{100} k$$\n",
    "#### Solution:"
   ]
  },
  {
   "cell_type": "code",
   "execution_count": 1,
   "id": "144d747b",
   "metadata": {},
   "outputs": [
    {
     "name": "stdout",
     "output_type": "stream",
     "text": [
      "5050\n"
     ]
    }
   ],
   "source": [
    "sum = 0\n",
    "for x in range(1, 101):\n",
    "    sum += x\n",
    "print(sum)"
   ]
  },
  {
   "cell_type": "markdown",
   "id": "fb13178d",
   "metadata": {},
   "source": [
    "### Example 2:\n",
    "Use for loop to print the following pattern:\n",
    "\n",
    "= \\\n",
    "== \\\n",
    "=== \\\n",
    "==== \\\n",
    "=====\n",
    "#### Solution:"
   ]
  },
  {
   "cell_type": "code",
   "execution_count": 2,
   "id": "a829f398",
   "metadata": {},
   "outputs": [
    {
     "name": "stdout",
     "output_type": "stream",
     "text": [
      "=\n",
      "==\n",
      "===\n",
      "====\n",
      "=====\n"
     ]
    }
   ],
   "source": [
    "row = 5\n",
    "for i in range(row):\n",
    "    for _ in range(i + 1):\n",
    "        print('=', end='')\n",
    "    print()"
   ]
  },
  {
   "cell_type": "markdown",
   "id": "e2f2f3c8",
   "metadata": {},
   "source": [
    "### Problem 1\n",
    "Find out all the integers between 1 and 10000, which satisfies that this integer plus 268 is a square number."
   ]
  },
  {
   "cell_type": "code",
   "execution_count": 8,
   "id": "0dbf58ae",
   "metadata": {},
   "outputs": [
    {
     "name": "stdout",
     "output_type": "stream",
     "text": [
      "21 + 268 = 289 squared is 17.0\n",
      "56 + 268 = 324 squared is 18.0\n",
      "93 + 268 = 361 squared is 19.0\n",
      "132 + 268 = 400 squared is 20.0\n",
      "173 + 268 = 441 squared is 21.0\n",
      "216 + 268 = 484 squared is 22.0\n",
      "261 + 268 = 529 squared is 23.0\n",
      "308 + 268 = 576 squared is 24.0\n",
      "357 + 268 = 625 squared is 25.0\n",
      "408 + 268 = 676 squared is 26.0\n",
      "461 + 268 = 729 squared is 27.0\n",
      "516 + 268 = 784 squared is 28.0\n",
      "573 + 268 = 841 squared is 29.0\n",
      "632 + 268 = 900 squared is 30.0\n",
      "693 + 268 = 961 squared is 31.0\n",
      "756 + 268 = 1024 squared is 32.0\n",
      "821 + 268 = 1089 squared is 33.0\n",
      "888 + 268 = 1156 squared is 34.0\n",
      "957 + 268 = 1225 squared is 35.0\n",
      "1028 + 268 = 1296 squared is 36.0\n",
      "1101 + 268 = 1369 squared is 37.0\n",
      "1176 + 268 = 1444 squared is 38.0\n",
      "1253 + 268 = 1521 squared is 39.0\n",
      "1332 + 268 = 1600 squared is 40.0\n",
      "1413 + 268 = 1681 squared is 41.0\n",
      "1496 + 268 = 1764 squared is 42.0\n",
      "1581 + 268 = 1849 squared is 43.0\n",
      "1668 + 268 = 1936 squared is 44.0\n",
      "1757 + 268 = 2025 squared is 45.0\n",
      "1848 + 268 = 2116 squared is 46.0\n",
      "1941 + 268 = 2209 squared is 47.0\n",
      "2036 + 268 = 2304 squared is 48.0\n",
      "2133 + 268 = 2401 squared is 49.0\n",
      "2232 + 268 = 2500 squared is 50.0\n",
      "2333 + 268 = 2601 squared is 51.0\n",
      "2436 + 268 = 2704 squared is 52.0\n",
      "2541 + 268 = 2809 squared is 53.0\n",
      "2648 + 268 = 2916 squared is 54.0\n",
      "2757 + 268 = 3025 squared is 55.0\n",
      "2868 + 268 = 3136 squared is 56.0\n",
      "2981 + 268 = 3249 squared is 57.0\n",
      "3096 + 268 = 3364 squared is 58.0\n",
      "3213 + 268 = 3481 squared is 59.0\n",
      "3332 + 268 = 3600 squared is 60.0\n",
      "3453 + 268 = 3721 squared is 61.0\n",
      "3576 + 268 = 3844 squared is 62.0\n",
      "3701 + 268 = 3969 squared is 63.0\n",
      "3828 + 268 = 4096 squared is 64.0\n",
      "3957 + 268 = 4225 squared is 65.0\n",
      "4088 + 268 = 4356 squared is 66.0\n",
      "4221 + 268 = 4489 squared is 67.0\n",
      "4356 + 268 = 4624 squared is 68.0\n",
      "4493 + 268 = 4761 squared is 69.0\n",
      "4632 + 268 = 4900 squared is 70.0\n",
      "4773 + 268 = 5041 squared is 71.0\n",
      "4916 + 268 = 5184 squared is 72.0\n",
      "5061 + 268 = 5329 squared is 73.0\n",
      "5208 + 268 = 5476 squared is 74.0\n",
      "5357 + 268 = 5625 squared is 75.0\n",
      "5508 + 268 = 5776 squared is 76.0\n",
      "5661 + 268 = 5929 squared is 77.0\n",
      "5816 + 268 = 6084 squared is 78.0\n",
      "5973 + 268 = 6241 squared is 79.0\n",
      "6132 + 268 = 6400 squared is 80.0\n",
      "6293 + 268 = 6561 squared is 81.0\n",
      "6456 + 268 = 6724 squared is 82.0\n",
      "6621 + 268 = 6889 squared is 83.0\n",
      "6788 + 268 = 7056 squared is 84.0\n",
      "6957 + 268 = 7225 squared is 85.0\n",
      "7128 + 268 = 7396 squared is 86.0\n",
      "7301 + 268 = 7569 squared is 87.0\n",
      "7476 + 268 = 7744 squared is 88.0\n",
      "7653 + 268 = 7921 squared is 89.0\n",
      "7832 + 268 = 8100 squared is 90.0\n",
      "8013 + 268 = 8281 squared is 91.0\n",
      "8196 + 268 = 8464 squared is 92.0\n",
      "8381 + 268 = 8649 squared is 93.0\n",
      "8568 + 268 = 8836 squared is 94.0\n",
      "8757 + 268 = 9025 squared is 95.0\n",
      "8948 + 268 = 9216 squared is 96.0\n",
      "9141 + 268 = 9409 squared is 97.0\n",
      "9336 + 268 = 9604 squared is 98.0\n",
      "9533 + 268 = 9801 squared is 99.0\n",
      "9732 + 268 = 10000 squared is 100.0\n",
      "9933 + 268 = 10201 squared is 101.0\n"
     ]
    }
   ],
   "source": [
    "for i in range(1, 10001):\n",
    "    sum268 = i + 268\n",
    "    squared = sum268 ** 0.5\n",
    "    \n",
    "    if ((squared % 1.0) == 0):\n",
    "        print(i, \"+ 268 =\", i + 268, \"squared is\", squared)\n"
   ]
  },
  {
   "cell_type": "markdown",
   "id": "f79337cb",
   "metadata": {},
   "source": [
    "### Problem 2\n",
    "The factorial of any positive integer $k$ is defined as:\n",
    "$$k! = k \\times (k-1) \\times \\cdots \\times 2 \\times 1$$\n",
    "Compute the following expression:\n",
    "$$\\sum_{k=1}^9 k!$$"
   ]
  },
  {
   "cell_type": "code",
   "execution_count": 10,
   "id": "84a39dcf",
   "metadata": {},
   "outputs": [
    {
     "name": "stdout",
     "output_type": "stream",
     "text": [
      "1 ! is 1\n",
      "2 ! is 2\n",
      "3 ! is 6\n",
      "4 ! is 24\n",
      "5 ! is 120\n",
      "6 ! is 720\n",
      "7 ! is 5040\n",
      "8 ! is 40320\n",
      "9 ! is 362880\n",
      "The sum of factorials from 1 to 9 is: 409113\n"
     ]
    }
   ],
   "source": [
    "SigmaFact = 0\n",
    "\n",
    "for i in range(1, 10):\n",
    "    factorial = 1\n",
    "    \n",
    "    for j in range(1, i+1):\n",
    "        factorial = factorial * j\n",
    "    \n",
    "    print(i, \"! is\", factorial)\n",
    "    \n",
    "    SigmaFact += factorial\n",
    "\n",
    "print(\"The sum of factorials from 1 to 9 is:\", SigmaFact)\n"
   ]
  },
  {
   "cell_type": "markdown",
   "id": "588cc34d",
   "metadata": {},
   "source": [
    "### Problem 3\n",
    "Give a string consists of several letters. If the letter is in the even-position, convert it to lower case; if the letter is in the odd-position, convert it to upper case.\n",
    "For example, if the given string is \"Morning\", the the result should be \"MoRnInG\".\n",
    "\n",
    "Convert the string \"Welcome\" and print the result."
   ]
  },
  {
   "cell_type": "code",
   "execution_count": 45,
   "id": "432f2c53",
   "metadata": {},
   "outputs": [
    {
     "name": "stdout",
     "output_type": "stream",
     "text": [
      "Please give a string: Welcome\n",
      "WeLcOmE"
     ]
    }
   ],
   "source": [
    "UserString = input(\"Please give a string: \")\n",
    "\n",
    "for i in range(len(UserString)):\n",
    "    if ((i % 2) == 1):\n",
    "        if UserString.isupper() == False:\n",
    "            print(UserString[i].lower(), end = \"\")\n",
    "        else:\n",
    "            print(UserString[i], end = \"\")\n",
    "    else:\n",
    "        if UserString.islower() == False:\n",
    "            print(UserString[i].upper(), end = \"\")\n",
    "        else:\n",
    "            print(UserString[i], end = \"\")"
   ]
  },
  {
   "cell_type": "markdown",
   "id": "9a57c2f5",
   "metadata": {},
   "source": [
    "### Problem 4\n",
    "Use for loop to print the following pattern:\n",
    "\n",
    "^^^^= \\\n",
    "^^^== \\\n",
    "^^=== \\\n",
    "^==== \\\n",
    "====="
   ]
  },
  {
   "cell_type": "code",
   "execution_count": 29,
   "id": "87a43499",
   "metadata": {},
   "outputs": [
    {
     "name": "stdout",
     "output_type": "stream",
     "text": [
      "^^^^=\n",
      "^^^==\n",
      "^^===\n",
      "^====\n",
      "=====\n"
     ]
    }
   ],
   "source": [
    "for rows in range(1,6):\n",
    "    for columns in range(1,6):\n",
    "        if rows > (5 - columns):\n",
    "            print(\"=\", end = \"\")\n",
    "        else:\n",
    "            print(\"^\", end = \"\")\n",
    "    print(\"\")"
   ]
  },
  {
   "cell_type": "markdown",
   "id": "3429b46f",
   "metadata": {},
   "source": [
    "### Problem 5\n",
    "In number theory, the Padovan sequence is the sequence of integers $P(n)$ defined by the initial values\n",
    "$$P(0) = P(1) = P(2) = 1$$\n",
    "and the recurrence relation\n",
    "$$P(n) = P(n-2) + P(n-3)$$\n",
    "For example, the first few values of $P(n)$ are\n",
    "1, 1, 1, 2, 2, 3, 4, 5, 7, 9\n",
    "\n",
    "Compute and print $P(20)$."
   ]
  },
  {
   "cell_type": "code",
   "execution_count": 33,
   "id": "ea4091c9",
   "metadata": {},
   "outputs": [
    {
     "name": "stdout",
     "output_type": "stream",
     "text": [
      "[0, 1, 2, 3, 4, 5, 6, 7, 8, 9, 10, 11, 12, 13, 14, 15, 16, 17, 18, 19, 20]\n",
      "[1, 1, 1, 2, 2, 3, 4, 5, 7, 9, 12, 16, 21, 28, 37, 49, 65, 86, 114, 151, 200]\n"
     ]
    }
   ],
   "source": [
    "index = []\n",
    "sequence = [1, 1, 1]\n",
    "Pn = 0\n",
    "\n",
    "for i in range(21):\n",
    "    index.append(i)\n",
    "print(index)\n",
    "\n",
    "for j in range(18):\n",
    "    Pn = sequence[len(sequence) - 2] + sequence[len(sequence) - 3]\n",
    "    sequence.append(Pn)\n",
    "\n",
    "print(sequence)"
   ]
  },
  {
   "cell_type": "code",
   "execution_count": null,
   "id": "bffb6f8c",
   "metadata": {},
   "outputs": [],
   "source": []
  }
 ],
 "metadata": {
  "kernelspec": {
   "display_name": "Python 3",
   "language": "python",
   "name": "python3"
  },
  "language_info": {
   "codemirror_mode": {
    "name": "ipython",
    "version": 3
   },
   "file_extension": ".py",
   "mimetype": "text/x-python",
   "name": "python",
   "nbconvert_exporter": "python",
   "pygments_lexer": "ipython3",
   "version": "3.8.8"
  }
 },
 "nbformat": 4,
 "nbformat_minor": 5
}
